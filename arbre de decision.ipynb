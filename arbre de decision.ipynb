{
 "cells": [
  {
   "cell_type": "code",
   "execution_count": 38,
   "id": "6ff17807",
   "metadata": {},
   "outputs": [],
   "source": [
    "import pandas as pd\n",
    "import numpy as np\n",
    "import os \n",
    "from sklearn.model_selection import train_test_split\n",
    "from sklearn.linear_model import LogisticRegression\n",
    "from sklearn.metrics import confusion_matrix, recall_score, accuracy_score, classification_report, precision_score\n",
    "import pickle\n",
    "import matplotlib.pyplot as plt\n",
    "import seaborn as bs\n",
    "from sklearn import tree "
   ]
  },
  {
   "cell_type": "code",
   "execution_count": 39,
   "id": "d9c572ed",
   "metadata": {},
   "outputs": [],
   "source": [
    "#afficher le répertoire courant\n",
    "#os.getcwd()\n",
    "#Changer de répertoire de travail\n",
    "#os.chdir(r'C:\\Users\\Admin\\Desktop\\AZIZ\\PERSO')"
   ]
  },
  {
   "cell_type": "code",
   "execution_count": 40,
   "id": "a2dd9dd6",
   "metadata": {},
   "outputs": [],
   "source": [
    "#Chargement du DF\n",
    "data = pd.read_excel('Copie de Coeur.xlsx')"
   ]
  },
  {
   "cell_type": "code",
   "execution_count": 41,
   "id": "e4d4f3a3",
   "metadata": {},
   "outputs": [],
   "source": [
    "#Travailler avec une copie du data Frame pour éviter de le rechager en cas d'êrreur\n",
    "df = data.copy()"
   ]
  },
  {
   "cell_type": "code",
   "execution_count": 42,
   "id": "207cd3b3",
   "metadata": {},
   "outputs": [
    {
     "name": "stdout",
     "output_type": "stream",
     "text": [
      "<class 'pandas.core.frame.DataFrame'>\n",
      "RangeIndex: 918 entries, 0 to 917\n",
      "Data columns (total 12 columns):\n",
      " #   Column       Non-Null Count  Dtype  \n",
      "---  ------       --------------  -----  \n",
      " 0   AGE          918 non-null    int64  \n",
      " 1   SEXE         918 non-null    object \n",
      " 2   TDT          918 non-null    object \n",
      " 3   PAR          918 non-null    int64  \n",
      " 4   CHOLESTEROL  918 non-null    int64  \n",
      " 5   GAJ          918 non-null    int64  \n",
      " 6   ECG          918 non-null    object \n",
      " 7   FCMAX        918 non-null    int64  \n",
      " 8   ANGINE       918 non-null    object \n",
      " 9   DEPRESSION   918 non-null    float64\n",
      " 10  PENTE        918 non-null    object \n",
      " 11  CŒUR         918 non-null    int64  \n",
      "dtypes: float64(1), int64(6), object(5)\n",
      "memory usage: 86.2+ KB\n"
     ]
    }
   ],
   "source": [
    "#Afficher les informations relatives au DF\n",
    "df.info()"
   ]
  },
  {
   "cell_type": "code",
   "execution_count": 43,
   "id": "4976a4cf",
   "metadata": {},
   "outputs": [],
   "source": [
    "#Normalisation des variables quantitatives\n",
    "for col in df.drop('CŒUR', axis =1).select_dtypes(np.number).columns:\n",
    "    df[col] = df[col]/df[col].max()\n"
   ]
  },
  {
   "cell_type": "code",
   "execution_count": 44,
   "id": "f97ed680",
   "metadata": {},
   "outputs": [
    {
     "data": {
      "text/html": [
       "<div>\n",
       "<style scoped>\n",
       "    .dataframe tbody tr th:only-of-type {\n",
       "        vertical-align: middle;\n",
       "    }\n",
       "\n",
       "    .dataframe tbody tr th {\n",
       "        vertical-align: top;\n",
       "    }\n",
       "\n",
       "    .dataframe thead th {\n",
       "        text-align: right;\n",
       "    }\n",
       "</style>\n",
       "<table border=\"1\" class=\"dataframe\">\n",
       "  <thead>\n",
       "    <tr style=\"text-align: right;\">\n",
       "      <th></th>\n",
       "      <th>AGE</th>\n",
       "      <th>SEXE</th>\n",
       "      <th>TDT</th>\n",
       "      <th>PAR</th>\n",
       "      <th>CHOLESTEROL</th>\n",
       "      <th>GAJ</th>\n",
       "      <th>ECG</th>\n",
       "      <th>FCMAX</th>\n",
       "      <th>ANGINE</th>\n",
       "      <th>DEPRESSION</th>\n",
       "      <th>PENTE</th>\n",
       "      <th>CŒUR</th>\n",
       "    </tr>\n",
       "  </thead>\n",
       "  <tbody>\n",
       "    <tr>\n",
       "      <th>0</th>\n",
       "      <td>0.519481</td>\n",
       "      <td>homme</td>\n",
       "      <td>AA</td>\n",
       "      <td>0.70</td>\n",
       "      <td>0.479270</td>\n",
       "      <td>0.0</td>\n",
       "      <td>Normal</td>\n",
       "      <td>0.851485</td>\n",
       "      <td>Non</td>\n",
       "      <td>0.000000</td>\n",
       "      <td>Ascendant</td>\n",
       "      <td>0</td>\n",
       "    </tr>\n",
       "    <tr>\n",
       "      <th>1</th>\n",
       "      <td>0.636364</td>\n",
       "      <td>femme</td>\n",
       "      <td>DNA</td>\n",
       "      <td>0.80</td>\n",
       "      <td>0.298507</td>\n",
       "      <td>0.0</td>\n",
       "      <td>Normal</td>\n",
       "      <td>0.772277</td>\n",
       "      <td>Non</td>\n",
       "      <td>0.161290</td>\n",
       "      <td>Plat</td>\n",
       "      <td>1</td>\n",
       "    </tr>\n",
       "    <tr>\n",
       "      <th>2</th>\n",
       "      <td>0.480519</td>\n",
       "      <td>homme</td>\n",
       "      <td>AA</td>\n",
       "      <td>0.65</td>\n",
       "      <td>0.469320</td>\n",
       "      <td>0.0</td>\n",
       "      <td>ST</td>\n",
       "      <td>0.485149</td>\n",
       "      <td>Non</td>\n",
       "      <td>0.000000</td>\n",
       "      <td>Ascendant</td>\n",
       "      <td>0</td>\n",
       "    </tr>\n",
       "    <tr>\n",
       "      <th>3</th>\n",
       "      <td>0.623377</td>\n",
       "      <td>femme</td>\n",
       "      <td>ASY</td>\n",
       "      <td>0.69</td>\n",
       "      <td>0.354892</td>\n",
       "      <td>0.0</td>\n",
       "      <td>Normal</td>\n",
       "      <td>0.534653</td>\n",
       "      <td>Oui</td>\n",
       "      <td>0.241935</td>\n",
       "      <td>Plat</td>\n",
       "      <td>1</td>\n",
       "    </tr>\n",
       "    <tr>\n",
       "      <th>4</th>\n",
       "      <td>0.701299</td>\n",
       "      <td>homme</td>\n",
       "      <td>DNA</td>\n",
       "      <td>0.75</td>\n",
       "      <td>0.323383</td>\n",
       "      <td>0.0</td>\n",
       "      <td>Normal</td>\n",
       "      <td>0.603960</td>\n",
       "      <td>Non</td>\n",
       "      <td>0.000000</td>\n",
       "      <td>Ascendant</td>\n",
       "      <td>0</td>\n",
       "    </tr>\n",
       "  </tbody>\n",
       "</table>\n",
       "</div>"
      ],
      "text/plain": [
       "        AGE   SEXE  TDT   PAR  CHOLESTEROL  GAJ     ECG     FCMAX ANGINE  \\\n",
       "0  0.519481  homme   AA  0.70     0.479270  0.0  Normal  0.851485    Non   \n",
       "1  0.636364  femme  DNA  0.80     0.298507  0.0  Normal  0.772277    Non   \n",
       "2  0.480519  homme   AA  0.65     0.469320  0.0      ST  0.485149    Non   \n",
       "3  0.623377  femme  ASY  0.69     0.354892  0.0  Normal  0.534653    Oui   \n",
       "4  0.701299  homme  DNA  0.75     0.323383  0.0  Normal  0.603960    Non   \n",
       "\n",
       "   DEPRESSION      PENTE  CŒUR  \n",
       "0    0.000000  Ascendant     0  \n",
       "1    0.161290       Plat     1  \n",
       "2    0.000000  Ascendant     0  \n",
       "3    0.241935       Plat     1  \n",
       "4    0.000000  Ascendant     0  "
      ]
     },
     "execution_count": 44,
     "metadata": {},
     "output_type": "execute_result"
    }
   ],
   "source": [
    "#Vérification des résultats\n",
    "df.head()"
   ]
  },
  {
   "cell_type": "code",
   "execution_count": 46,
   "id": "104c7755",
   "metadata": {},
   "outputs": [
    {
     "data": {
      "image/png": "[encoded data removed]",
      "text/plain": [
       "<Figure size 1008x432 with 5 Axes>"
      ]
     },
     "metadata": {
      "needs_background": "light"
     },
     "output_type": "display_data"
    }
   ],
   "source": [
    "# representation graphique des variables quantitaves\n",
    "qt = ['AGE', 'PAR', 'CHOLESTEROL', 'FCMAX', 'DEPRESSION']\n",
    "plt.figure(tight_layout = True, figsize = (14, 6))\n",
    "plt.suptitle(\"LES HISTOGRAMMES DES VARIABLES QUANTITATIVES\")\n",
    "for y,x in enumerate(qt):\n",
    "    plt.subplot(2,5,y+1)\n",
    "    plt.hist(df[x])\n",
    "    plt.title(f\"{qt[y]}\")\n",
    "plt.show()"
   ]
  },
  {
   "cell_type": "code",
   "execution_count": 47,
   "id": "9c135c48",
   "metadata": {},
   "outputs": [
    {
     "data": {
      "image/png": "[encoded data removed]",
      "text/plain": [
       "<Figure size 1080x576 with 7 Axes>"
      ]
     },
     "metadata": {},
     "output_type": "display_data"
    }
   ],
   "source": [
    "# representation graphique des variables qualitatives\n",
    "\n",
    "qual = ['SEXE', 'TDT', 'GAJ', 'ECG', 'ANGINE', 'PENTE', 'CŒUR'] # la liste des variables qualitatives\n",
    "\n",
    "plt.figure(tight_layout = True, figsize = (15,8))\n",
    "plt.suptitle(\"LES DIAGRAMMES CIRCULAIRE DES VARIABLES QUALITATIVES\")\n",
    "for y,x in enumerate(qual):\n",
    "    eff = df[x].value_counts()\n",
    "    modalite = df[x].unique()\n",
    "    plt.subplot(2,4,y+1)\n",
    "    plt.pie(eff, labels = modalite, autopct = '%1.1f%%')\n",
    "    plt.legend(bbox_to_anchor = (0, 1))\n",
    "    plt.title(f\"{qual[y]}\")\n",
    "plt.show()"
   ]
  },
  {
   "cell_type": "code",
   "execution_count": 48,
   "id": "e4e42ce5",
   "metadata": {},
   "outputs": [],
   "source": [
    "#Encodage des variables qualitatives\n",
    "for col in df.select_dtypes('object').columns:\n",
    "    df[col] = df[col].astype('category').cat.codes"
   ]
  },
  {
   "cell_type": "code",
   "execution_count": 49,
   "id": "85a85a02",
   "metadata": {},
   "outputs": [
    {
     "data": {
      "text/html": [
       "<div>\n",
       "<style scoped>\n",
       "    .dataframe tbody tr th:only-of-type {\n",
       "        vertical-align: middle;\n",
       "    }\n",
       "\n",
       "    .dataframe tbody tr th {\n",
       "        vertical-align: top;\n",
       "    }\n",
       "\n",
       "    .dataframe thead th {\n",
       "        text-align: right;\n",
       "    }\n",
       "</style>\n",
       "<table border=\"1\" class=\"dataframe\">\n",
       "  <thead>\n",
       "    <tr style=\"text-align: right;\">\n",
       "      <th></th>\n",
       "      <th>AGE</th>\n",
       "      <th>SEXE</th>\n",
       "      <th>TDT</th>\n",
       "      <th>PAR</th>\n",
       "      <th>CHOLESTEROL</th>\n",
       "      <th>GAJ</th>\n",
       "      <th>ECG</th>\n",
       "      <th>FCMAX</th>\n",
       "      <th>ANGINE</th>\n",
       "      <th>DEPRESSION</th>\n",
       "      <th>PENTE</th>\n",
       "      <th>CŒUR</th>\n",
       "    </tr>\n",
       "  </thead>\n",
       "  <tbody>\n",
       "    <tr>\n",
       "      <th>0</th>\n",
       "      <td>0.519481</td>\n",
       "      <td>1</td>\n",
       "      <td>0</td>\n",
       "      <td>0.70</td>\n",
       "      <td>0.479270</td>\n",
       "      <td>0.0</td>\n",
       "      <td>1</td>\n",
       "      <td>0.851485</td>\n",
       "      <td>0</td>\n",
       "      <td>0.000000</td>\n",
       "      <td>0</td>\n",
       "      <td>0</td>\n",
       "    </tr>\n",
       "    <tr>\n",
       "      <th>1</th>\n",
       "      <td>0.636364</td>\n",
       "      <td>0</td>\n",
       "      <td>3</td>\n",
       "      <td>0.80</td>\n",
       "      <td>0.298507</td>\n",
       "      <td>0.0</td>\n",
       "      <td>1</td>\n",
       "      <td>0.772277</td>\n",
       "      <td>0</td>\n",
       "      <td>0.161290</td>\n",
       "      <td>2</td>\n",
       "      <td>1</td>\n",
       "    </tr>\n",
       "    <tr>\n",
       "      <th>2</th>\n",
       "      <td>0.480519</td>\n",
       "      <td>1</td>\n",
       "      <td>0</td>\n",
       "      <td>0.65</td>\n",
       "      <td>0.469320</td>\n",
       "      <td>0.0</td>\n",
       "      <td>2</td>\n",
       "      <td>0.485149</td>\n",
       "      <td>0</td>\n",
       "      <td>0.000000</td>\n",
       "      <td>0</td>\n",
       "      <td>0</td>\n",
       "    </tr>\n",
       "    <tr>\n",
       "      <th>3</th>\n",
       "      <td>0.623377</td>\n",
       "      <td>0</td>\n",
       "      <td>1</td>\n",
       "      <td>0.69</td>\n",
       "      <td>0.354892</td>\n",
       "      <td>0.0</td>\n",
       "      <td>1</td>\n",
       "      <td>0.534653</td>\n",
       "      <td>1</td>\n",
       "      <td>0.241935</td>\n",
       "      <td>2</td>\n",
       "      <td>1</td>\n",
       "    </tr>\n",
       "    <tr>\n",
       "      <th>4</th>\n",
       "      <td>0.701299</td>\n",
       "      <td>1</td>\n",
       "      <td>3</td>\n",
       "      <td>0.75</td>\n",
       "      <td>0.323383</td>\n",
       "      <td>0.0</td>\n",
       "      <td>1</td>\n",
       "      <td>0.603960</td>\n",
       "      <td>0</td>\n",
       "      <td>0.000000</td>\n",
       "      <td>0</td>\n",
       "      <td>0</td>\n",
       "    </tr>\n",
       "  </tbody>\n",
       "</table>\n",
       "</div>"
      ],
      "text/plain": [
       "        AGE  SEXE  TDT   PAR  CHOLESTEROL  GAJ  ECG     FCMAX  ANGINE  \\\n",
       "0  0.519481     1    0  0.70     0.479270  0.0    1  0.851485       0   \n",
       "1  0.636364     0    3  0.80     0.298507  0.0    1  0.772277       0   \n",
       "2  0.480519     1    0  0.65     0.469320  0.0    2  0.485149       0   \n",
       "3  0.623377     0    1  0.69     0.354892  0.0    1  0.534653       1   \n",
       "4  0.701299     1    3  0.75     0.323383  0.0    1  0.603960       0   \n",
       "\n",
       "   DEPRESSION  PENTE  CŒUR  \n",
       "0    0.000000      0     0  \n",
       "1    0.161290      2     1  \n",
       "2    0.000000      0     0  \n",
       "3    0.241935      2     1  \n",
       "4    0.000000      0     0  "
      ]
     },
     "execution_count": 49,
     "metadata": {},
     "output_type": "execute_result"
    }
   ],
   "source": [
    "#Vérification des résultats\n",
    "df.head()"
   ]
  },
  {
   "cell_type": "code",
   "execution_count": 50,
   "id": "acd4ee77",
   "metadata": {},
   "outputs": [],
   "source": [
    "#Séparer la variable cible (coeur) et les variables explicatives\n",
    "y = df['CŒUR']\n",
    "x = df.drop('CŒUR', axis = 1)"
   ]
  },
  {
   "cell_type": "code",
   "execution_count": 51,
   "id": "d38c03fb",
   "metadata": {},
   "outputs": [],
   "source": [
    "#Subdivision du jeu de données en apprentissage et en test\n",
    "x_train, x_test, y_train, y_test = train_test_split(x,y,test_size =0.2, random_state =1)\n",
    "#train_set, test_set = train_test_split(df,test_size =0.2, random_state =1)"
   ]
  },
  {
   "cell_type": "code",
   "execution_count": 52,
   "id": "a61a2912",
   "metadata": {},
   "outputs": [
    {
     "name": "stdout",
     "output_type": "stream",
     "text": [
      "(734, 11) (184, 11) (734,) (184,)\n"
     ]
    }
   ],
   "source": [
    "#Vérifier le résultat\n",
    "print(x_train.shape, x_test.shape, y_train.shape, y_test.shape)"
   ]
  },
  {
   "cell_type": "markdown",
   "id": "6e3b7569",
   "metadata": {},
   "source": [
    "# Construire le Modèle d'arbre de décision"
   ]
  },
  {
   "cell_type": "code",
   "execution_count": 93,
   "id": "aed47e2f",
   "metadata": {},
   "outputs": [],
   "source": [
    "#Création d'un objet modelTree de la classe DecisionTreeClassifier\n",
    "modelTree = tree.DecisionTreeClassifier(random_state=1, criterion='gini',max_depth=6 )"
   ]
  },
  {
   "cell_type": "code",
   "execution_count": 94,
   "id": "5fec244d",
   "metadata": {},
   "outputs": [
    {
     "data": {
      "text/plain": [
       "DecisionTreeClassifier(max_depth=6, random_state=1)"
      ]
     },
     "execution_count": 94,
     "metadata": {},
     "output_type": "execute_result"
    }
   ],
   "source": [
    "#Apprentissage du modèle \n",
    "modelTree.fit(x_train,y_train)"
   ]
  },
  {
   "cell_type": "code",
   "execution_count": 95,
   "id": "471292d7",
   "metadata": {},
   "outputs": [
    {
     "data": {
      "text/plain": [
       "array([[0.13333333, 0.86666667],\n",
       "       [0.08510638, 0.91489362],\n",
       "       [0.01818182, 0.98181818],\n",
       "       [0.01818182, 0.98181818],\n",
       "       [0.5       , 0.5       ]])"
      ]
     },
     "execution_count": 95,
     "metadata": {},
     "output_type": "execute_result"
    }
   ],
   "source": [
    "#Probabilité d'appartenance à l'une des classes\n",
    "predict_proba = modelTree.predict_proba(x_test)\n",
    "predict_proba[:5,:]"
   ]
  },
  {
   "cell_type": "code",
   "execution_count": 96,
   "id": "0c52a1b3",
   "metadata": {},
   "outputs": [
    {
     "data": {
      "text/plain": [
       "array([1, 1, 1, 1, 0], dtype=int64)"
      ]
     },
     "execution_count": 96,
     "metadata": {},
     "output_type": "execute_result"
    }
   ],
   "source": [
    "#Application du modèle au données de test\n",
    "y_pred = modelTree.predict(x_test)\n",
    "y_pred[:5]"
   ]
  },
  {
   "cell_type": "markdown",
   "id": "2ab790a2",
   "metadata": {},
   "source": [
    "# Construire le Modèle  de la regression logistique"
   ]
  },
  {
   "cell_type": "code",
   "execution_count": 97,
   "id": "843cc42c",
   "metadata": {},
   "outputs": [],
   "source": [
    "#Création d'un objet lr de la classe LogisticRegression\n",
    "lr = LogisticRegression(solver ='newton-cg', random_state =1)"
   ]
  },
  {
   "cell_type": "code",
   "execution_count": 98,
   "id": "5ad5e50a",
   "metadata": {},
   "outputs": [],
   "source": [
    "#Apprentissage du modèle\n",
    "model = lr.fit(x_train, y_train)\n",
    "#model = lr.fit(train_set.drop('CŒUR', axis = 1), train_set['CŒUR'])"
   ]
  },
  {
   "cell_type": "code",
   "execution_count": 113,
   "id": "c7c219c6",
   "metadata": {},
   "outputs": [
    {
     "data": {
      "text/plain": [
       "array([[0.39560595, 0.60439405],\n",
       "       [0.18843348, 0.81156652],\n",
       "       [0.04970935, 0.95029065],\n",
       "       [0.09007617, 0.90992383],\n",
       "       [0.28158313, 0.71841687]])"
      ]
     },
     "execution_count": 113,
     "metadata": {},
     "output_type": "execute_result"
    }
   ],
   "source": [
    "#Probabilité d'appartenance à l'une des classes\n",
    "predict_proba = model.predict_proba(x_test)\n",
    "predict_proba[:5,:]"
   ]
  },
  {
   "cell_type": "code",
   "execution_count": 114,
   "id": "0e4f9aca",
   "metadata": {},
   "outputs": [
    {
     "data": {
      "text/plain": [
       "array([1, 1, 1, 1, 1], dtype=int64)"
      ]
     },
     "execution_count": 114,
     "metadata": {},
     "output_type": "execute_result"
    }
   ],
   "source": [
    "#Application du modèle au données de test\n",
    "y_pred = model.predict(x_test)\n",
    "y_pred[:5]"
   ]
  },
  {
   "cell_type": "code",
   "execution_count": 115,
   "id": "a849be08",
   "metadata": {},
   "outputs": [
    {
     "data": {
      "text/plain": [
       "array([[ 66,   8],\n",
       "       [  6, 104]], dtype=int64)"
      ]
     },
     "execution_count": 115,
     "metadata": {},
     "output_type": "execute_result"
    }
   ],
   "source": [
    "#matrice de confusion\n",
    "mc = confusion_matrix(y_test, y_pred)\n",
    "mc"
   ]
  },
  {
   "cell_type": "code",
   "execution_count": 116,
   "id": "5f2a721e",
   "metadata": {},
   "outputs": [
    {
     "data": {
      "text/plain": [
       "0.9239130434782609"
      ]
     },
     "execution_count": 116,
     "metadata": {},
     "output_type": "execute_result"
    }
   ],
   "source": [
    "#Taux de bonnes prédictions\n",
    "accuracy = accuracy_score(y_test, y_pred)\n",
    "accuracy\n",
    "#Conclusion : le modèle produit 85.32 % de bonne prédiction."
   ]
  },
  {
   "cell_type": "code",
   "execution_count": 117,
   "id": "39678925",
   "metadata": {},
   "outputs": [
    {
     "data": {
      "text/plain": [
       "0.9454545454545454"
      ]
     },
     "execution_count": 117,
     "metadata": {},
     "output_type": "execute_result"
    }
   ],
   "source": [
    "#Sensibilité\n",
    "recall = recall_score(y_test, y_pred)\n",
    "recall\n",
    "#conclusion : lorsqu'un individu est malade, nous avons 84.11 % de chance que le modèle le prédise."
   ]
  },
  {
   "cell_type": "code",
   "execution_count": 118,
   "id": "62060487",
   "metadata": {},
   "outputs": [
    {
     "data": {
      "text/plain": [
       "0.9285714285714286"
      ]
     },
     "execution_count": 118,
     "metadata": {},
     "output_type": "execute_result"
    }
   ],
   "source": [
    "#Précision\n",
    "precision = precision_score(y_test, y_pred)\n",
    "precision\n",
    "#Conclusion : lorsque le modèle prédit qu'un individu est malade, nous avons 90 % de chace que cela soit vraie."
   ]
  },
  {
   "cell_type": "code",
   "execution_count": 119,
   "id": "e0630294",
   "metadata": {},
   "outputs": [
    {
     "name": "stdout",
     "output_type": "stream",
     "text": [
      "              precision    recall  f1-score   support\n",
      "\n",
      "           0       0.92      0.89      0.90        74\n",
      "           1       0.93      0.95      0.94       110\n",
      "\n",
      "    accuracy                           0.92       184\n",
      "   macro avg       0.92      0.92      0.92       184\n",
      "weighted avg       0.92      0.92      0.92       184\n",
      "\n"
     ]
    }
   ],
   "source": [
    "#plus de détails avec classification report\n",
    "cr = classification_report(y_test, y_pred)\n",
    "print(cr)"
   ]
  },
  {
   "cell_type": "code",
   "execution_count": 120,
   "id": "4803ba1d",
   "metadata": {},
   "outputs": [
    {
     "data": {
      "text/plain": [
       "1    0.553377\n",
       "0    0.446623\n",
       "Name: CŒUR, dtype: float64"
      ]
     },
     "execution_count": 120,
     "metadata": {},
     "output_type": "execute_result"
    }
   ],
   "source": [
    "#Modèle Trival\n",
    "df['CŒUR'].value_counts()/df.shape[0]\n",
    "#Conclusion : si nous nous basons sur le hasard pour faire nos prédiction, nous aurons 55.37 % de bonne prédiction."
   ]
  },
  {
   "cell_type": "code",
   "execution_count": 121,
   "id": "76511cb7",
   "metadata": {},
   "outputs": [
    {
     "name": "stdout",
     "output_type": "stream",
     "text": [
      "precision de  Logistic Regression x_train:  0.8433242506811989\n"
     ]
    }
   ],
   "source": [
    "#Score d'entrainement (le taux de bonne prédiction calculé sur la base des données d'entrainement)\n",
    "precisionTrain = model.score(x_train, y_train)\n",
    "print('precision de  Logistic Regression x_train: ', precisionTrain)"
   ]
  },
  {
   "cell_type": "code",
   "execution_count": 122,
   "id": "272d4686",
   "metadata": {},
   "outputs": [
    {
     "name": "stdout",
     "output_type": "stream",
     "text": [
      "precision de Logistic Regression  x_test:  0.9239130434782609\n"
     ]
    }
   ],
   "source": [
    "#Score d'entrainement (le taux de bonne prédiction calculé sur la base des données de test)\n",
    "precisionReel=model.score(x_test, y_test)\n",
    "print('precision de Logistic Regression  x_test: ', precisionReel)"
   ]
  },
  {
   "cell_type": "code",
   "execution_count": 123,
   "id": "2288d8a0",
   "metadata": {},
   "outputs": [
    {
     "name": "stdout",
     "output_type": "stream",
     "text": [
      "precision de  Arbre x_test:  0.8369565217391305\n",
      "precision de  Arbre x_train:  0.9223433242506812\n"
     ]
    }
   ],
   "source": [
    "#Score d'entrainement (le taux de bonne prédiction calculé sur la base des données d'entrainement)\n",
    "#Score d'entrainement (le taux de bonne prédiction calculé sur la base des données de test)\n",
    "precisionTreeReel = modelTree.score(x_test,y_test)\n",
    "precisionTreeTrain = modelTree.score(x_train,y_train)\n",
    "\n",
    "print('precision de  Arbre x_test: ', precisionTreeReel)\n",
    "print('precision de  Arbre x_train: ', precisionTreeTrain)"
   ]
  },
  {
   "cell_type": "markdown",
   "id": "c1429a57",
   "metadata": {},
   "source": [
    "# Comparons la régression logistique et l'arbre de décision"
   ]
  },
  {
   "cell_type": "code",
   "execution_count": 124,
   "id": "abc2349d",
   "metadata": {},
   "outputs": [
    {
     "name": "stdout",
     "output_type": "stream",
     "text": [
      "precision de  Arbre x_test:  0.8369565217391305\n",
      "precision de Logistic Regression  x_test:  0.9239130434782609\n",
      "-------------------------------------------------------------------\n",
      "precision de  Arbre x_train:  0.9223433242506812\n",
      "precision de  Logistic Regression x_train:  0.8433242506811989\n"
     ]
    }
   ],
   "source": [
    "print( 'precision de  Arbre x_test: ', precisionTreeReel )\n",
    "print('precision de Logistic Regression  x_test: ', precisionReel)\n",
    "print('-------------------------------------------------------------------')\n",
    "print('precision de  Arbre x_train: ', precisionTreeTrain)\n",
    "print('precision de  Logistic Regression x_train: ', precisionTrain)"
   ]
  },
  {
   "cell_type": "code",
   "execution_count": 125,
   "id": "7191a38a",
   "metadata": {},
   "outputs": [],
   "source": [
    "#le module pour l'enregistrement du model\n",
    "import pickle"
   ]
  },
  {
   "cell_type": "code",
   "execution_count": 127,
   "id": "539cee6b",
   "metadata": {},
   "outputs": [],
   "source": [
    "pickle.dump(model,open('model.pkl','wb'))"
   ]
  }
 ],
 "metadata": {
  "kernelspec": {
   "display_name": "Python 3 (ipykernel)",
   "language": "python",
   "name": "python3"
  },
  "language_info": {
   "codemirror_mode": {
    "name": "ipython",
    "version": 3
   },
   "file_extension": ".py",
   "mimetype": "text/x-python",
   "name": "python",
   "nbconvert_exporter": "python",
   "pygments_lexer": "ipython3",
   "version": "3.9.7"
  }
 },
 "nbformat": 4,
 "nbformat_minor": 5
}
